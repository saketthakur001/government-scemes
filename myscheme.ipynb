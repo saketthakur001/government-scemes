{
 "cells": [
  {
   "cell_type": "code",
   "execution_count": 1,
   "metadata": {},
   "outputs": [],
   "source": [
    "import requests\n",
    "from bs4 import BeautifulSoup\n",
    "\n",
    "html = requests.get('https://www.myscheme.gov.in/schemes/nbm')\n",
    "soup = BeautifulSoup(html.content, 'html.parser')\n"
   ]
  },
  {
   "cell_type": "code",
   "execution_count": 5,
   "metadata": {},
   "outputs": [
    {
     "name": "stderr",
     "output_type": "stream",
     "text": [
      "C:\\Users\\Administrator\\AppData\\Local\\Temp\\ipykernel_13612\\2442480297.py:17: DeprecationWarning: The 'text' argument to find()-type methods is deprecated. Use 'string' instead.\n",
      "  details = div.find(\"div\", text=\"Details\").find_next_sibling(\"div\").get_text(strip=True)\n",
      "C:\\Users\\Administrator\\AppData\\Local\\Temp\\ipykernel_13612\\2442480297.py:20: DeprecationWarning: The 'text' argument to find()-type methods is deprecated. Use 'string' instead.\n",
      "  benefits = div.find(\"div\", text=\"Benefits\").find_next_sibling(\"div\").get_text(strip=True)\n",
      "C:\\Users\\Administrator\\AppData\\Local\\Temp\\ipykernel_13612\\2442480297.py:23: DeprecationWarning: The 'text' argument to find()-type methods is deprecated. Use 'string' instead.\n",
      "  eligibility = div.find(\"div\", text=\"Eligibility\").find_next_sibling(\"div\").get_text(strip=True)\n",
      "C:\\Users\\Administrator\\AppData\\Local\\Temp\\ipykernel_13612\\2442480297.py:26: DeprecationWarning: The 'text' argument to find()-type methods is deprecated. Use 'string' instead.\n",
      "  application_process = div.find(\"div\", text=\"Application Process\").find_next_sibling(\"div\").get_text(strip=True)\n",
      "C:\\Users\\Administrator\\AppData\\Local\\Temp\\ipykernel_13612\\2442480297.py:29: DeprecationWarning: The 'text' argument to find()-type methods is deprecated. Use 'string' instead.\n",
      "  documents_required = div.find(\"div\", text=\"Documents Required\").find_next_sibling(\"div\").get_text(strip=True)\n",
      "C:\\Users\\Administrator\\AppData\\Local\\Temp\\ipykernel_13612\\2442480297.py:32: DeprecationWarning: The 'text' argument to find()-type methods is deprecated. Use 'string' instead.\n",
      "  faq = div.find(\"div\", text=\"Frequently Asked Questions\").find_next_sibling(\"div\").get_text(strip=True)\n"
     ]
    },
    {
     "ename": "AttributeError",
     "evalue": "'NoneType' object has no attribute 'get_text'",
     "output_type": "error",
     "traceback": [
      "\u001b[1;31m---------------------------------------------------------------------------\u001b[0m",
      "\u001b[1;31mAttributeError\u001b[0m                            Traceback (most recent call last)",
      "Cell \u001b[1;32mIn[5], line 32\u001b[0m\n\u001b[0;32m     29\u001b[0m documents_required \u001b[38;5;241m=\u001b[39m div\u001b[38;5;241m.\u001b[39mfind(\u001b[38;5;124m\"\u001b[39m\u001b[38;5;124mdiv\u001b[39m\u001b[38;5;124m\"\u001b[39m, text\u001b[38;5;241m=\u001b[39m\u001b[38;5;124m\"\u001b[39m\u001b[38;5;124mDocuments Required\u001b[39m\u001b[38;5;124m\"\u001b[39m)\u001b[38;5;241m.\u001b[39mfind_next_sibling(\u001b[38;5;124m\"\u001b[39m\u001b[38;5;124mdiv\u001b[39m\u001b[38;5;124m\"\u001b[39m)\u001b[38;5;241m.\u001b[39mget_text(strip\u001b[38;5;241m=\u001b[39m\u001b[38;5;28;01mTrue\u001b[39;00m)\n\u001b[0;32m     31\u001b[0m \u001b[38;5;66;03m# Extract the frequently asked questions\u001b[39;00m\n\u001b[1;32m---> 32\u001b[0m faq \u001b[38;5;241m=\u001b[39m \u001b[43mdiv\u001b[49m\u001b[38;5;241;43m.\u001b[39;49m\u001b[43mfind\u001b[49m\u001b[43m(\u001b[49m\u001b[38;5;124;43m\"\u001b[39;49m\u001b[38;5;124;43mdiv\u001b[39;49m\u001b[38;5;124;43m\"\u001b[39;49m\u001b[43m,\u001b[49m\u001b[43m \u001b[49m\u001b[43mtext\u001b[49m\u001b[38;5;241;43m=\u001b[39;49m\u001b[38;5;124;43m\"\u001b[39;49m\u001b[38;5;124;43mFrequently Asked Questions\u001b[39;49m\u001b[38;5;124;43m\"\u001b[39;49m\u001b[43m)\u001b[49m\u001b[38;5;241;43m.\u001b[39;49m\u001b[43mfind_next_sibling\u001b[49m\u001b[43m(\u001b[49m\u001b[38;5;124;43m\"\u001b[39;49m\u001b[38;5;124;43mdiv\u001b[39;49m\u001b[38;5;124;43m\"\u001b[39;49m\u001b[43m)\u001b[49m\u001b[38;5;241;43m.\u001b[39;49m\u001b[43mget_text\u001b[49m(strip\u001b[38;5;241m=\u001b[39m\u001b[38;5;28;01mTrue\u001b[39;00m)\n\u001b[0;32m     34\u001b[0m \u001b[38;5;66;03m# Print the extracted information\u001b[39;00m\n\u001b[0;32m     35\u001b[0m \u001b[38;5;28mprint\u001b[39m(\u001b[38;5;124m\"\u001b[39m\u001b[38;5;124mDetails:\u001b[39m\u001b[38;5;124m\"\u001b[39m, details)\n",
      "\u001b[1;31mAttributeError\u001b[0m: 'NoneType' object has no attribute 'get_text'"
     ]
    }
   ],
   "source": [
    "import requests\n",
    "from bs4 import BeautifulSoup\n",
    "\n",
    "# URL of the website\n",
    "url = \"https://www.myscheme.gov.in/schemes/nbm\"\n",
    "\n",
    "# Send a GET request to the URL\n",
    "response = requests.get(url)\n",
    "\n",
    "# Parse the HTML content using BeautifulSoup\n",
    "soup = BeautifulSoup(response.content, \"html.parser\")\n",
    "\n",
    "# Find the div with class \"grid grid-cols-4 gap-2\"\n",
    "div = soup.find(\"div\", {\"class\": \"grid grid-cols-4 gap-2\"})\n",
    "\n",
    "# Extract the details\n",
    "details = div.find(\"div\", text=\"Details\").find_next_sibling(\"div\").get_text(strip=True)\n",
    "\n",
    "# Extract the benefits\n",
    "benefits = div.find(\"div\", text=\"Benefits\").find_next_sibling(\"div\").get_text(strip=True)\n",
    "\n",
    "# Extract the eligibility\n",
    "eligibility = div.find(\"div\", text=\"Eligibility\").find_next_sibling(\"div\").get_text(strip=True)\n",
    "\n",
    "# Extract the application process\n",
    "application_process = div.find(\"div\", text=\"Application Process\").find_next_sibling(\"div\").get_text(strip=True)\n",
    "\n",
    "# Extract the documents required\n",
    "documents_required = div.find(\"div\", text=\"Documents Required\").find_next_sibling(\"div\").get_text(strip=True)\n",
    "\n",
    "# Extract the frequently asked questions\n",
    "faq = div.find(\"div\", text=\"Frequently Asked Questions\").find_next_sibling(\"div\").get_text(strip=True)\n",
    "\n",
    "# Print the extracted information\n",
    "print(\"Details:\", details)\n",
    "print(\"Benefits:\", benefits)\n",
    "print(\"Eligibility:\", eligibility)\n",
    "print(\"Application Process:\", application_process)\n",
    "print(\"Documents Required:\", documents_required)\n",
    "print(\"Frequently Asked Questions:\", faq)"
   ]
  },
  {
   "cell_type": "code",
   "execution_count": null,
   "metadata": {},
   "outputs": [],
   "source": [
    "    \"\"\"National Bamboo MissionAre you sure you want to sign out?CancelSign OutEngEnglish/हिंदीThemeSign InBackDetailsBenefitsEligibilityApplication ProcessDocuments RequiredFrequently Asked QuestionsSources And ReferencesFeedbackSomething went wrong. Please try again later.OkYou need to sign in before applying for schemesCancelSign InSomething went wrong. Please try again later.OkIt seems you have already initiated your application earlier.To know more please visit CancelApply NowCheck EligibilityMinistry Of Agriculture and Farmers WelfareNational Bamboo MissionBamboo MarketingBamboo PlantationProduct DevelopmentQuality Planting MaterialDetailsResultant to this historic amendment, bamboo grown in the non-forest area is out of the scope of regulations on the forest produces. During the year 2022-23, the NBM has been merged with Mission for Integrated Development of Horticulture (MIDH) scheme. ﻿The restructured National Bamboo Mission primarily focuses on the development of complete value chain of bamboo sector to link growers with consumers starting from planting material, plantation, creation of facilities, skilled manpower and brand processing marketing, micro, small & medium enterprises, skilled manpower and brand building initiative in a cluster approach mode. Presently the scheme is being implemented in 24 States/UTs. The NBM has provisions to raise bamboo plantations as well as to establish units for bio-energy extraction, activated carbon product, charcoal making, pellet making, Ethanol gasifier, etc for government agencies and private entrepreneurs.﻿NBM also envisaged to revitalise the bamboo industry through various innovations and policy support that would contribute by reducing the carbon emission and contribute to domestic manufacturing.﻿The key objectives of the Mission are as follows:•\tTo increase the area under bamboo plantation in non-forest Government and private lands to supplement farm income and contribute towards resilience to climate change as well as availability of quality raw material requirement of industries. The bamboo plantations will be promoted predominantly in farmers’ fields, homesteads, community lands, arable wastelands, and along irrigation canals, water bodies etc.•\tTo improve post-harvest management through establishment of innovative primary processing units near the source of production, primary treatment and seasoning plants, preservation technologies and market infrastructure.•\tTo promote product development keeping in view market demand, by assisting R&D, entrepreneurship & business models at micro, small and medium levels and feed bigger industry.•\tTo rejuvenate the underdeveloped bamboo industry in India•\tTo promote skill development, capacity building, awareness generation for development of bamboo sector from production to market demand.•\tTo realign efforts to reduce dependency on import of bamboo and bamboo products by way of improved productivity and suitability of domestic raw material for industry, so as to enhance income of the primary producers.﻿BenefitsThe scheme targets to provide following benefits:1)\tIt would assist farmers, government agencies, artisans, entrepreneurs, private agencies, Federated SHGs, FPOs, and other persons involved in bamboo industry2)\tIt will help in establishing bamboo nursery, bamboo cultivation, post-harvest processing, product manufacturing, capacity building, entrepreneurship, etc for the industry3)\tIt will help in creating self-dependency for fulfilling the demand of bamboo and bamboo products.EligibilityThe scheme is applicable to all farmers in IndiaApplication ProcessOnlineRefer to respective State's Bamboo Mission Portal for online link﻿Step 01: Application to State Bamboo Mission through their respective portals/offlineStep 02: Scrutiny and approval of the SBMStep 03: credit linked financing through scheduled/commercial banksStep 04: progress reporting/completion of projectsStep 05: evaluation by SBM and disbursal of subsidy to the bank account of the beneficiary﻿Documents Required1)\tAadhaar number2)\tLand documents3)\tCaste Certificate (SC/ST only)4)\tPhone Details5)\tBank Details6)\tPhotographs7)\tDPRThe specific documents for availing the benefits of the program may vary depending on the type of intervention and the state. It is recommended to consult with the relevant authorities for detailed information on documents to be submitted.﻿Frequently Asked QuestionsIs this scheme a Direct Benefit Transfer (DBT) Scheme?No, NBM isn’t covered under DBT schemeWho all will be benefited under NBM scheme?It would assist farmers, government agencies, artisans, entrepreneurs, private agencies, Federated SHGs, FPOs, and other persons involved in bamboo industryWhat all actions, assistance will be provided under NBM scheme?Under this scheme establishment of bamboo nursery, bamboo cultivation, post-harvest processing, product manufacturing, capacity building, entrepreneurship, etc for the industry will be enabled.I am a farmer with no qualification background, am I eligible for the scheme?No qualifications are required to be eligible for NBM scheme, only pre-requisite is to own a land and document proofs related to it.I am availing benefits of other schemes as well. Am I eligible to enjoy benefits of NBM scheme as well?Yes, an individual registered with multiple schemes can simultaneously avail benefits of NBM scheme on fulfilment of other criteria.Where do I need to apply for the scheme?One can apply for NBM scheme through respective SBM Portals. What all documents are needed to apply for the scheme?Aadhaar number, Land documents, Caste Certificate (SC/ST/OBC only), Phone Details, Bank Details, Photographs, DPR are required for application. However, the specific documents for availing the benefits of the program may vary depending on the type of intervention and the state. It is recommended to consult with the relevant authorities for detailed information on documents to be submitted.Sources And ReferencesGUidelinesOkWas this helpful?News and UpdatesNo new news and updates availableShareSomething went wrong. Please try again later.OkYou need to sign in before applying for schemesCancelSign InSomething went wrong. Please try again later.OkIt seems you have already initiated your application earlier.To know more please visit CancelApply NowCheck EligibilityMinistry Of Agriculture and Farmers WelfareNational Bamboo MissionBamboo MarketingBamboo PlantationProduct DevelopmentQuality Planting MaterialDetailsBenefitsEligibilityApplication ProcessDocuments RequiredFrequently Asked QuestionsResultant to this historic amendment, bamboo grown in the non-forest area is out of the scope of regulations on the forest produces. During the year 2022-23, the NBM has been merged with Mission for Integrated Development of Horticulture (MIDH) scheme. ﻿The restructured National Bamboo Mission primarily focuses on the development of complete value chain of bamboo sector to link growers with consumers starting from planting material, plantation, creation of facilities, skilled manpower and brand processing marketing, micro, small & medium enterprises, skilled manpower and brand building initiative in a cluster approach mode. Presently the scheme is being implemented in 24 States/UTs. The NBM has provisions to raise bamboo plantations as well as to establish units for bio-energy extraction, activated carbon product, charcoal making, pellet making, Ethanol gasifier, etc for government agencies and private entrepreneurs.﻿NBM also envisaged to revitalise the bamboo industry through various innovations and policy support that would contribute by reducing the carbon emission and contribute to domestic manufacturing.﻿The key objectives of the Mission are as follows:•\tTo increase the area under bamboo plantation in non-forest Government and private lands to supplement farm income and contribute towards resilience to climate change as well as availability of quality raw material requirement of industries. The bamboo plantations will be promoted predominantly in farmers’ fields, homesteads, community lands, arable wastelands, and along irrigation canals, water bodies etc.•\tTo improve post-harvest management through establishment of innovative primary processing units near the source of production, primary treatment and seasoning plants, preservation technologies and market infrastructure.•\tTo promote product development keeping in view market demand, by assisting R&D, entrepreneurship & business models at micro, small and medium levels and feed bigger industry.•\tTo rejuvenate the underdeveloped bamboo industry in India•\tTo promote skill development, capacity building, awareness generation for development of bamboo sector from production to market demand.•\tTo realign efforts to reduce dependency on import of bamboo and bamboo products by way of improved productivity and suitability of domestic raw material for industry, so as to enhance income of the primary producers.﻿OkWas this helpful?ShareNews and UpdatesNo new news and updates available©2024Powered byDigital India Corporation(DIC)Ministry of Electronics & IT (MeitY)Government of India®Quick LinksAbout UsContact UsScreen ReaderAccessibility StatementFrequently Asked QuestionsOur TeamDisclaimerTerms & ConditionsUseful LinksGet in touch4th Floor, NeGD, Electronics Niketan, 6 CGO Complex, Lodhi Road, New Delhi - 110003, Indiasupport-myscheme[at]digitalindia[dot]gov[dot]in(011) 24303714Last Updated On : 22/05/2024 | v-2.1.5\"\"\""
   ]
  }
 ],
 "metadata": {
  "kernelspec": {
   "display_name": "Python 3",
   "language": "python",
   "name": "python3"
  },
  "language_info": {
   "codemirror_mode": {
    "name": "ipython",
    "version": 3
   },
   "file_extension": ".py",
   "mimetype": "text/x-python",
   "name": "python",
   "nbconvert_exporter": "python",
   "pygments_lexer": "ipython3",
   "version": "3.12.1"
  }
 },
 "nbformat": 4,
 "nbformat_minor": 2
}
